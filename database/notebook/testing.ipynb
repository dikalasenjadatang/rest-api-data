{
 "cells": [
  {
   "cell_type": "code",
   "execution_count": 19,
   "metadata": {},
   "outputs": [],
   "source": [
    "import pandas as pd\n",
    "import os\n",
    "import json\n",
    "import numpy as np\n",
    "from datetime import datetime"
   ]
  },
  {
   "cell_type": "code",
   "execution_count": 20,
   "metadata": {},
   "outputs": [
    {
     "name": "stdout",
     "output_type": "stream",
     "text": [
      "dprnews.json\n",
      "dprtwitter.json\n",
      "dpryt.json\n"
     ]
    }
   ],
   "source": [
    "path_folder = r'C:\\Users\\Win10\\End-to-End-Testing-main\\datacrawl'\n",
    "datas = os.listdir(path_folder)\n",
    "for d in datas:\n",
    "    print(d)"
   ]
  },
  {
   "cell_type": "code",
   "execution_count": 21,
   "metadata": {},
   "outputs": [],
   "source": [
    "path_news = os.path.join(path_folder, datas[0])\n",
    "\n",
    "with open(path_news, 'r') as f:\n",
    "    news_dat = json.load(f)"
   ]
  },
  {
   "cell_type": "code",
   "execution_count": 22,
   "metadata": {},
   "outputs": [
    {
     "name": "stdout",
     "output_type": "stream",
     "text": [
      "27\n"
     ]
    }
   ],
   "source": [
    "news_df = pd.DataFrame(news_dat['articles'])\n",
    "print(len(news_df))"
   ]
  },
  {
   "cell_type": "code",
   "execution_count": 23,
   "metadata": {},
   "outputs": [
    {
     "data": {
      "text/html": [
       "<div>\n",
       "<style scoped>\n",
       "    .dataframe tbody tr th:only-of-type {\n",
       "        vertical-align: middle;\n",
       "    }\n",
       "\n",
       "    .dataframe tbody tr th {\n",
       "        vertical-align: top;\n",
       "    }\n",
       "\n",
       "    .dataframe thead th {\n",
       "        text-align: right;\n",
       "    }\n",
       "</style>\n",
       "<table border=\"1\" class=\"dataframe\">\n",
       "  <thead>\n",
       "    <tr style=\"text-align: right;\">\n",
       "      <th></th>\n",
       "      <th>judul</th>\n",
       "      <th>ringkasan</th>\n",
       "      <th>sumber</th>\n",
       "      <th>tanggal</th>\n",
       "      <th>url</th>\n",
       "      <th>label_owner</th>\n",
       "      <th>label_timestamp</th>\n",
       "    </tr>\n",
       "  </thead>\n",
       "  <tbody>\n",
       "    <tr>\n",
       "      <th>0</th>\n",
       "      <td>Profil Hetifah Sjaifudian, Anggota DPR RI Dapi...</td>\n",
       "      <td>Sebanyak 580 caleg berhasil memastikan diri lo...</td>\n",
       "      <td>Tribun Kaltim</td>\n",
       "      <td>2024-08-02T02:53:20Z</td>\n",
       "      <td>https://kaltim.tribunnews.com/2024/08/02/profi...</td>\n",
       "      <td>Personal</td>\n",
       "      <td>2024-08-02T11:16:59.615050</td>\n",
       "    </tr>\n",
       "    <tr>\n",
       "      <th>1</th>\n",
       "      <td>Menhub Budi Pede Tol Laut Lanjut di Masa Prabo...</td>\n",
       "      <td>Budi meyakini bahwa program tol laut tidak han...</td>\n",
       "      <td>VIVA.co.id</td>\n",
       "      <td>2024-08-02T02:41:08Z</td>\n",
       "      <td>https://www.viva.co.id/bisnis/1738349-menhub-b...</td>\n",
       "      <td>Personal</td>\n",
       "      <td>2024-08-02T11:16:59.615050</td>\n",
       "    </tr>\n",
       "    <tr>\n",
       "      <th>2</th>\n",
       "      <td>Sah! Pasangan Salim Fakhry-Heri Al Hilal Maju ...</td>\n",
       "      <td>KUTACANE, Waspada.co.id - Dewan Pimpinan Pusat...</td>\n",
       "      <td>Waspada Online</td>\n",
       "      <td>2024-08-02T02:40:57Z</td>\n",
       "      <td>https://waspada.co.id/sah-pasangan-salim-fakhr...</td>\n",
       "      <td>Personal</td>\n",
       "      <td>2024-08-02T11:16:59.615050</td>\n",
       "    </tr>\n",
       "  </tbody>\n",
       "</table>\n",
       "</div>"
      ],
      "text/plain": [
       "                                               judul  \\\n",
       "0  Profil Hetifah Sjaifudian, Anggota DPR RI Dapi...   \n",
       "1  Menhub Budi Pede Tol Laut Lanjut di Masa Prabo...   \n",
       "2  Sah! Pasangan Salim Fakhry-Heri Al Hilal Maju ...   \n",
       "\n",
       "                                           ringkasan          sumber  \\\n",
       "0  Sebanyak 580 caleg berhasil memastikan diri lo...   Tribun Kaltim   \n",
       "1  Budi meyakini bahwa program tol laut tidak han...      VIVA.co.id   \n",
       "2  KUTACANE, Waspada.co.id - Dewan Pimpinan Pusat...  Waspada Online   \n",
       "\n",
       "                tanggal                                                url  \\\n",
       "0  2024-08-02T02:53:20Z  https://kaltim.tribunnews.com/2024/08/02/profi...   \n",
       "1  2024-08-02T02:41:08Z  https://www.viva.co.id/bisnis/1738349-menhub-b...   \n",
       "2  2024-08-02T02:40:57Z  https://waspada.co.id/sah-pasangan-salim-fakhr...   \n",
       "\n",
       "  label_owner             label_timestamp  \n",
       "0    Personal  2024-08-02T11:16:59.615050  \n",
       "1    Personal  2024-08-02T11:16:59.615050  \n",
       "2    Personal  2024-08-02T11:16:59.615050  "
      ]
     },
     "execution_count": 23,
     "metadata": {},
     "output_type": "execute_result"
    }
   ],
   "source": [
    "news_df['label_owner'] = 'Personal'\n",
    "news_df['label_timestamp'] = datetime.now().isoformat()\n",
    "\n",
    "news_df.head(3)"
   ]
  },
  {
   "cell_type": "code",
   "execution_count": 24,
   "metadata": {},
   "outputs": [],
   "source": [
    "from pymongo import MongoClient\n",
    "client = MongoClient('mongodb://localhost:27017/')  # Ganti dengan URI MongoDB Anda\n",
    "db = client['TESTING'] \n",
    "collection = db['search_result']"
   ]
  },
  {
   "cell_type": "code",
   "execution_count": 25,
   "metadata": {},
   "outputs": [],
   "source": [
    "# Convert DataFrame to dictionary\n",
    "data_dict = news_df.to_dict(\"records\")\n"
   ]
  },
  {
   "cell_type": "code",
   "execution_count": 27,
   "metadata": {},
   "outputs": [],
   "source": [
    "# Fetch existing data from 'news' document\n",
    "existing_document = collection.find_one({'_id': 'news'})\n",
    "\n",
    "# Check for duplicates based on 'url' and append new data\n",
    "if existing_document and 'data' in existing_document:\n",
    "    existing_data = existing_document['data']\n",
    "    existing_urls = {item['url'] for item in existing_data}\n",
    "    \n",
    "    # Filter out new items that already exist based on the 'url' field\n",
    "    new_data = [item for item in data_dict if item['url'] not in existing_urls]\n",
    "    \n",
    "    if new_data:\n",
    "        existing_data.extend(new_data)\n",
    "        collection.update_one(\n",
    "            {'_id': 'news'},\n",
    "            {'$set': {'data': existing_data}}\n",
    "        )\n",
    "else:\n",
    "    collection.update_one(\n",
    "        {'_id': 'news'},\n",
    "        {'$set': {'data': data_dict}},\n",
    "        upsert=True\n",
    "    )"
   ]
  },
  {
   "cell_type": "code",
   "execution_count": null,
   "metadata": {},
   "outputs": [],
   "source": []
  }
 ],
 "metadata": {
  "kernelspec": {
   "display_name": "sentiment",
   "language": "python",
   "name": "python3"
  },
  "language_info": {
   "codemirror_mode": {
    "name": "ipython",
    "version": 3
   },
   "file_extension": ".py",
   "mimetype": "text/x-python",
   "name": "python",
   "nbconvert_exporter": "python",
   "pygments_lexer": "ipython3",
   "version": "3.10.14"
  }
 },
 "nbformat": 4,
 "nbformat_minor": 2
}
