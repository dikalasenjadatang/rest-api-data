{
 "cells": [
  {
   "cell_type": "code",
   "execution_count": 16,
   "metadata": {},
   "outputs": [],
   "source": [
    "import os\n",
    "import numpy as np\n",
    "import pandas as pd\n",
    "from pymongo import MongoClient\n",
    "import json\n",
    "from datetime import datetime"
   ]
  },
  {
   "cell_type": "code",
   "execution_count": 22,
   "metadata": {},
   "outputs": [],
   "source": [
    "def save_data_to_mongo(data_json, database_name,collection_name, mongo_url='mongodb://localhost:27017/', document_id='news'):\n",
    "    \"\"\"\n",
    "    Save data to MongoDB collection, avoiding duplicates based on the 'url' field.\n",
    "\n",
    "    :param data_json: List of dictionaries containing the data to be saved.\n",
    "    :param mongo_uri: MongoDB URI.\n",
    "    :param database_name: Name of the database.\n",
    "    :param collection_name: Name of the collection.\n",
    "    :param document_id: The document ID to update or insert data.\n",
    "    \"\"\"\n",
    "    client_db = MongoClient(mongo_url)\n",
    "    db = client_db[database_name]\n",
    "    data_collection = db[collection_name]\n",
    "\n",
    "    existing_document = data_collection.find_one({'_id': document_id})\n",
    "\n",
    "    # Check for duplicates based on 'url' and append new data\n",
    "    if existing_document and 'data' in existing_document:\n",
    "        existing_data = existing_document['data']\n",
    "        existing_urls = {item['url'] for item in existing_data}\n",
    "\n",
    "        # Filter out new items that already exist based on the 'url' field\n",
    "        new_data = [item for item in data_json if item['url'] not in existing_urls]\n",
    "\n",
    "        if new_data:\n",
    "            existing_data.extend(new_data)\n",
    "            data_collection.update_one(\n",
    "                {'_id': document_id},\n",
    "                {'$set': {'data': existing_data}}\n",
    "            )\n",
    "    else:\n",
    "        data_collection.update_one(\n",
    "            {'_id': document_id},\n",
    "            {'$set': {'data': data_json}},\n",
    "            upsert=True\n",
    "        )\n",
    "\n",
    "    print(\"Data News Saved!\")\n"
   ]
  },
  {
   "cell_type": "code",
   "execution_count": 24,
   "metadata": {},
   "outputs": [],
   "source": [
    "MONGO_URI = 'mongodb://localhost:27017/'  # Update with your MongoDB URI\n",
    "DATABASE_NAME = 'E2E'\n",
    "DATA_COLLECTION_NAME = 'data_scrape'"
   ]
  },
  {
   "cell_type": "code",
   "execution_count": 25,
   "metadata": {},
   "outputs": [],
   "source": [
    "# Create MongoDB client\n",
    "client_db = MongoClient(MONGO_URI)\n",
    "db = client_db[DATABASE_NAME]\n",
    "data_collect = db[DATA_COLLECTION_NAME]"
   ]
  },
  {
   "cell_type": "code",
   "execution_count": 26,
   "metadata": {},
   "outputs": [],
   "source": [
    "TOPIK  = 'instansi A'"
   ]
  },
  {
   "cell_type": "code",
   "execution_count": 27,
   "metadata": {},
   "outputs": [],
   "source": [
    "path_folder = r'C:\\Users\\Win10\\End-to-End-Testing-main\\datacrawl'\n",
    "datas = os.listdir(path_folder)\n",
    "path_news = os.path.join(path_folder, datas[0])\n",
    "\n",
    "with open(path_news, 'r') as f:\n",
    "    news_dat = json.load(f)\n",
    "\n",
    "news_df = pd.DataFrame(news_dat['articles']).head(3)\n",
    "\n",
    "news_df['label_owner'] = TOPIK\n",
    "news_df['label_timestamp'] = datetime.now().isoformat()\n",
    "data_dict = news_df.to_dict(\"records\")"
   ]
  },
  {
   "cell_type": "code",
   "execution_count": 28,
   "metadata": {},
   "outputs": [
    {
     "data": {
      "text/plain": [
       "[{'judul': 'Profil Hetifah Sjaifudian, Anggota DPR RI Dapil Kalimantan Timur Periode 2024-2029 dan Rekam Jejak - Tribunkaltim.co',\n",
       "  'ringkasan': 'Sebanyak 580 caleg berhasil memastikan diri lolos dan menjadi anggota DPR RI periode 2024-2029.\\n\\nDengan mendulang banyak suara, tentu Hetifah Sjaifudian bisa kembali mengamankan 1 kursi di Senayan.\\n\\nH...',\n",
       "  'sumber': 'Tribun Kaltim',\n",
       "  'tanggal': '2024-08-02T02:53:20Z',\n",
       "  'url': 'https://kaltim.tribunnews.com/2024/08/02/profil-hetifah-sjaifudian-anggota-dpr-dapil-ri-kalimantan-timur-periode-2024-2029-dan-rekam-jejak',\n",
       "  'label_owner': 'instansi A',\n",
       "  'label_timestamp': '2024-08-06T12:00:18.982130'},\n",
       " {'judul': 'Menhub Budi Pede Tol Laut Lanjut di Masa Prabowo-Gibran, Ini Alasannya',\n",
       "  'ringkasan': 'Budi meyakini bahwa program tol laut tidak hanya akan berjalan di pemerintah Presiden Joko Widodo (Jokowi), tetapi akan terus berlanjut di pemerintahan selanjutnya periode 2024-2029.\\n\\n\"Saya pikir kare...',\n",
       "  'sumber': 'VIVA.co.id',\n",
       "  'tanggal': '2024-08-02T02:41:08Z',\n",
       "  'url': 'https://www.viva.co.id/bisnis/1738349-menhub-budi-pede-tol-laut-lanjut-di-masa-prabowo-gibran-ini-alasannya',\n",
       "  'label_owner': 'instansi A',\n",
       "  'label_timestamp': '2024-08-06T12:00:18.982130'},\n",
       " {'judul': 'Sah! Pasangan Salim Fakhry-Heri Al Hilal Maju Pilkada Aceh Tenggara, Berikut Calon Rivalnya',\n",
       "  'ringkasan': 'KUTACANE, Waspada.co.id - Dewan Pimpinan Pusat Partai Golkar, mengesahkan dan menetapkan pasangan Salim Fakhry-Heri Al Hilal, maju di Pilkada Aceh Tenggara 2024.\\n\\nPasangan Salim Fakhry-Heri Al-Hilal, ...',\n",
       "  'sumber': 'Waspada Online',\n",
       "  'tanggal': '2024-08-02T02:40:57Z',\n",
       "  'url': 'https://waspada.co.id/sah-pasangan-salim-fakhry-heri-al-hilal-maju-pilkada-aceh-tenggara-berikut-calon-rivalnya/',\n",
       "  'label_owner': 'instansi A',\n",
       "  'label_timestamp': '2024-08-06T12:00:18.982130'}]"
      ]
     },
     "execution_count": 28,
     "metadata": {},
     "output_type": "execute_result"
    }
   ],
   "source": [
    "data_dict"
   ]
  },
  {
   "cell_type": "code",
   "execution_count": 29,
   "metadata": {},
   "outputs": [
    {
     "name": "stdout",
     "output_type": "stream",
     "text": [
      "Data News Saved!\n"
     ]
    }
   ],
   "source": [
    "save_data_to_mongo(data_dict, DATABASE_NAME, DATA_COLLECTION_NAME)"
   ]
  },
  {
   "cell_type": "code",
   "execution_count": 2,
   "metadata": {},
   "outputs": [
    {
     "name": "stdout",
     "output_type": "stream",
     "text": [
      "Data News Saved!\n"
     ]
    }
   ],
   "source": [
    "import os\n",
    "import numpy as np\n",
    "import pandas as pd\n",
    "from pymongo import MongoClient\n",
    "import json\n",
    "from datetime import datetime\n",
    "\n",
    "def save_data_to_mongo(data_json, database_name, collection_name, mongo_url='mongodb://localhost:27017/', document_id='news'):\n",
    "    \"\"\"\n",
    "    Save data to MongoDB collection, avoiding duplicates based on the 'url' field.\n",
    "    If 'url' exists but with a new 'label_owner', add the new 'label_owner' to the list.\n",
    "\n",
    "    :param data_json: List of dictionaries containing the data to be saved.\n",
    "    :param mongo_uri: MongoDB URI.\n",
    "    :param database_name: Name of the database.\n",
    "    :param collection_name: Name of the collection.\n",
    "    :param document_id: The document ID to update or insert data.\n",
    "    \"\"\"\n",
    "    client_db = MongoClient(mongo_url)\n",
    "    db = client_db[database_name]\n",
    "    data_collection = db[collection_name]\n",
    "\n",
    "    existing_document = data_collection.find_one({'_id': document_id})\n",
    "\n",
    "    if existing_document and 'data' in existing_document:\n",
    "        existing_data = existing_document['data']\n",
    "        existing_urls = {item['url'] for item in existing_data}\n",
    "\n",
    "        for new_item in data_json:\n",
    "            if new_item['url'] in existing_urls:\n",
    "                for existing_item in existing_data:\n",
    "                    if existing_item['url'] == new_item['url']:\n",
    "                        if not isinstance(existing_item['label_owner'], list):\n",
    "                            existing_item['label_owner'] = [existing_item['label_owner']]\n",
    "                        if not isinstance(existing_item['label_timestamp'], list):\n",
    "                            existing_item['label_timestamp'] = [existing_item['label_timestamp']]\n",
    "                        \n",
    "                        if new_item['label_owner'] not in existing_item['label_owner']:\n",
    "                            existing_item['label_owner'].append(new_item['label_owner'])\n",
    "                        existing_item['label_timestamp'].append(new_item['label_timestamp'])\n",
    "                        break\n",
    "            else:\n",
    "                new_item['label_owner'] = [new_item['label_owner']]\n",
    "                new_item['label_timestamp'] = [new_item['label_timestamp']]\n",
    "                existing_data.append(new_item)\n",
    "\n",
    "        data_collection.update_one(\n",
    "            {'_id': document_id},\n",
    "            {'$set': {'data': existing_data}}\n",
    "        )\n",
    "    else:\n",
    "        for new_item in data_json:\n",
    "            new_item['label_owner'] = [new_item['label_owner']]\n",
    "            new_item['label_timestamp'] = [new_item['label_timestamp']]\n",
    "        data_collection.update_one(\n",
    "            {'_id': document_id},\n",
    "            {'$set': {'data': data_json}},\n",
    "            upsert=True\n",
    "        )\n",
    "\n",
    "    print(\"Data News Saved!\")\n",
    "\n",
    "MONGO_URI = 'mongodb://localhost:27017/'  # Update with your MongoDB URI\n",
    "DATABASE_NAME = 'E2E'\n",
    "DATA_COLLECTION_NAME = 'data_scrape'\n",
    "\n",
    "# Create MongoDB client\n",
    "client_db = MongoClient(MONGO_URI)\n",
    "db = client_db[DATABASE_NAME]\n",
    "data_collect = db[DATA_COLLECTION_NAME]\n",
    "\n",
    "\n",
    "\n",
    "path_folder = r'C:\\Users\\Win10\\End-to-End-Testing-main\\datacrawl'\n",
    "datas = os.listdir(path_folder)\n",
    "path_news = os.path.join(path_folder, datas[0])\n",
    "\n",
    "with open(path_news, 'r') as f:\n",
    "    news_dat = json.load(f)\n",
    "\n",
    "news_df = pd.DataFrame(news_dat['articles']).head(3)\n",
    "\n",
    "news_df['label_owner'] = TOPIK\n",
    "news_df['label_timestamp'] = datetime.now().isoformat()\n",
    "data_dict = news_df.to_dict(\"records\")\n",
    "\n",
    "save_data_to_mongo(data_dict, DATABASE_NAME, DATA_COLLECTION_NAME)\n"
   ]
  },
  {
   "cell_type": "code",
   "execution_count": 4,
   "metadata": {},
   "outputs": [
    {
     "name": "stdout",
     "output_type": "stream",
     "text": [
      "Data News Saved!\n"
     ]
    }
   ],
   "source": [
    "news_df = pd.DataFrame(news_dat['articles']).tail(2)\n",
    "TOPIK = 'instansi A'\n",
    "news_df['label_owner'] = TOPIK\n",
    "news_df['label_timestamp'] = datetime.now().isoformat()\n",
    "data_dict = news_df.to_dict(\"records\")\n",
    "\n",
    "save_data_to_mongo(data_dict, DATABASE_NAME, DATA_COLLECTION_NAME)"
   ]
  },
  {
   "cell_type": "code",
   "execution_count": 5,
   "metadata": {},
   "outputs": [
    {
     "data": {
      "text/plain": [
       "[{'judul': 'Jumlah Pekerja yang Kena PHK Capai 32 Ribu Orang, Jakarta Paling Banyak',\n",
       "  'ringkasan': 'Massa buruh Konfederasi Serikat Pekerja Seluruh Indonesia (KSPSI) menggelar aksi demo di kawasan Patung Kuda, Monas, Jakarta, Rabu 3 Juli 2024. Dalam aksinya massa buruh menyerukan penolakan PHK pada ...',\n",
       "  'sumber': 'TEMPO.CO',\n",
       "  'tanggal': '2024-08-02T00:11:27Z',\n",
       "  'url': 'https://bisnis.tempo.co/read/1898757/jumlah-pekerja-yang-kena-phk-capai-32-ribu-orang-jakarta-paling-banyak',\n",
       "  'label_owner': 'instansi A',\n",
       "  'label_timestamp': '2024-08-07T08:47:27.737476'},\n",
       " {'judul': 'Angela Tanoesoedibjo Gantikan HT Pimpin Partai Perindo, PKB: Banggakan Kaum Muda : Okezone Nasional',\n",
       "  'ringkasan': 'JAKARTA - Ketua DPP PKB Daniel Johan turut mengucapkan selamat kepada Angela Tanoesoedibjo lantaran telah menjadi Ketua Umum Partai Perindo. Angela, kata dia, meneruskan tongkat estafet kepemimpinan p...',\n",
       "  'sumber': 'https://nasional.okezone.com/',\n",
       "  'tanggal': '2024-08-02T00:00:00Z',\n",
       "  'url': 'https://nasional.okezone.com/read/2024/08/02/337/3043114/angela-tanoesoedibjo-gantikan-ht-pimpin-partai-perindo-pkb-banggakan-kaum-muda',\n",
       "  'label_owner': 'instansi A',\n",
       "  'label_timestamp': '2024-08-07T08:47:27.737476'}]"
      ]
     },
     "execution_count": 5,
     "metadata": {},
     "output_type": "execute_result"
    }
   ],
   "source": [
    "data_dict"
   ]
  },
  {
   "cell_type": "markdown",
   "metadata": {},
   "source": [
    "# Load Data"
   ]
  },
  {
   "cell_type": "code",
   "execution_count": 6,
   "metadata": {},
   "outputs": [],
   "source": [
    "def load_data_by_label_owner(database_name, collection_name, label_owner, mongo_url='mongodb://localhost:27017/', document_id='news'):\n",
    "    \"\"\"\n",
    "    Load data from MongoDB collection based on label_owner.\n",
    "\n",
    "    :param database_name: Name of the database.\n",
    "    :param collection_name: Name of the collection.\n",
    "    :param label_owner: The label owner to filter by.\n",
    "    :param mongo_uri: MongoDB URI.\n",
    "    :param document_id: The document ID to update or insert data.\n",
    "    :return: Data filtered by label_owner.\n",
    "    \"\"\"\n",
    "    client_db = MongoClient(mongo_url)\n",
    "    db = client_db[database_name]\n",
    "    data_collection = db[collection_name]\n",
    "\n",
    "    existing_document = data_collection.find_one({'_id': document_id})\n",
    "    \n",
    "    if existing_document and 'data' in existing_document:\n",
    "        filtered_data = [item for item in existing_document['data'] if label_owner in item['label_owner']]\n",
    "        return filtered_data\n",
    "    else:\n",
    "        return []"
   ]
  },
  {
   "cell_type": "code",
   "execution_count": 7,
   "metadata": {},
   "outputs": [
    {
     "name": "stdout",
     "output_type": "stream",
     "text": [
      "Data for label_owner 'instansi B':\n",
      "[{'judul': 'Profil Hetifah Sjaifudian, Anggota DPR RI Dapil Kalimantan Timur Periode 2024-2029 dan Rekam Jejak - Tribunkaltim.co', 'ringkasan': 'Sebanyak 580 caleg berhasil memastikan diri lolos dan menjadi anggota DPR RI periode 2024-2029.\\n\\nDengan mendulang banyak suara, tentu Hetifah Sjaifudian bisa kembali mengamankan 1 kursi di Senayan.\\n\\nH...', 'sumber': 'Tribun Kaltim', 'tanggal': '2024-08-02T02:53:20Z', 'url': 'https://kaltim.tribunnews.com/2024/08/02/profil-hetifah-sjaifudian-anggota-dpr-dapil-ri-kalimantan-timur-periode-2024-2029-dan-rekam-jejak', 'label_owner': ['instansi A', 'instansi B'], 'label_timestamp': ['2024-08-06T12:00:18.982130', '2024-08-07T08:44:47.394531']}, {'judul': 'Menhub Budi Pede Tol Laut Lanjut di Masa Prabowo-Gibran, Ini Alasannya', 'ringkasan': 'Budi meyakini bahwa program tol laut tidak hanya akan berjalan di pemerintah Presiden Joko Widodo (Jokowi), tetapi akan terus berlanjut di pemerintahan selanjutnya periode 2024-2029.\\n\\n\"Saya pikir kare...', 'sumber': 'VIVA.co.id', 'tanggal': '2024-08-02T02:41:08Z', 'url': 'https://www.viva.co.id/bisnis/1738349-menhub-budi-pede-tol-laut-lanjut-di-masa-prabowo-gibran-ini-alasannya', 'label_owner': ['instansi A', 'instansi B'], 'label_timestamp': ['2024-08-06T12:00:18.982130', '2024-08-07T08:44:47.394531']}, {'judul': 'Sah! Pasangan Salim Fakhry-Heri Al Hilal Maju Pilkada Aceh Tenggara, Berikut Calon Rivalnya', 'ringkasan': 'KUTACANE, Waspada.co.id - Dewan Pimpinan Pusat Partai Golkar, mengesahkan dan menetapkan pasangan Salim Fakhry-Heri Al Hilal, maju di Pilkada Aceh Tenggara 2024.\\n\\nPasangan Salim Fakhry-Heri Al-Hilal, ...', 'sumber': 'Waspada Online', 'tanggal': '2024-08-02T02:40:57Z', 'url': 'https://waspada.co.id/sah-pasangan-salim-fakhry-heri-al-hilal-maju-pilkada-aceh-tenggara-berikut-calon-rivalnya/', 'label_owner': ['instansi A', 'instansi B'], 'label_timestamp': ['2024-08-06T12:00:18.982130', '2024-08-07T08:44:47.394531']}, {'judul': 'Menhub  optimistis program tol laut berlanjut di pemerintahan baru - ANTARA News Ambon, Maluku', 'ringkasan': 'Jakarta (ANTARA) - Menteri Perhubungan (Menhub) Budi Karya Sumadi mengaku optimistis bahwa program tol laut bakal berlanjut di masa pemerintahan baru presiden dan wakil presiden terpilih Prabowo Subia...', 'sumber': 'Antara News', 'tanggal': '2024-08-02T00:19:01Z', 'url': 'https://ambon.antaranews.com/berita/223035/menhub-optimistis-program-tol-laut-berlanjut-di-pemerintahan-baru', 'label_owner': ['instansi B'], 'label_timestamp': ['2024-08-07T08:46:33.374327']}, {'judul': 'HARI INI,  Aliansi Santri Gus Dur Menggugat Geruduk Kantor PBNU, Buntut Polemik di Tubuh PBNU - Tribuncirebon.com', 'ringkasan': 'Laporan Wartawan Tribuncirebon.com, Handhika Rahman\\n\\nTRIBUNCIREBON.COM, INDRAMAYU - Hari ini, massa aksi yang mengatasnamakan sebagai Aliansi Santri Gus Dur Menggugat akan menggeruduk kantor PBNU, (2/...', 'sumber': 'Tribun cirebon', 'tanggal': '2024-08-02T00:16:22Z', 'url': 'https://cirebon.tribunnews.com/2024/08/02/hari-ini-aliansi-santri-gus-dur-menggugat-geruduk-kantor-pbnu-buntut-polemik-di-tubuh-pbnu', 'label_owner': ['instansi B'], 'label_timestamp': ['2024-08-07T08:46:33.374327']}, {'judul': 'Jumlah Pekerja yang Kena PHK Capai 32 Ribu Orang, Jakarta Paling Banyak', 'ringkasan': 'Massa buruh Konfederasi Serikat Pekerja Seluruh Indonesia (KSPSI) menggelar aksi demo di kawasan Patung Kuda, Monas, Jakarta, Rabu 3 Juli 2024. Dalam aksinya massa buruh menyerukan penolakan PHK pada ...', 'sumber': 'TEMPO.CO', 'tanggal': '2024-08-02T00:11:27Z', 'url': 'https://bisnis.tempo.co/read/1898757/jumlah-pekerja-yang-kena-phk-capai-32-ribu-orang-jakarta-paling-banyak', 'label_owner': ['instansi B', 'instansi A'], 'label_timestamp': ['2024-08-07T08:46:33.374327', '2024-08-07T08:47:27.737476']}, {'judul': 'Angela Tanoesoedibjo Gantikan HT Pimpin Partai Perindo, PKB: Banggakan Kaum Muda : Okezone Nasional', 'ringkasan': 'JAKARTA - Ketua DPP PKB Daniel Johan turut mengucapkan selamat kepada Angela Tanoesoedibjo lantaran telah menjadi Ketua Umum Partai Perindo. Angela, kata dia, meneruskan tongkat estafet kepemimpinan p...', 'sumber': 'https://nasional.okezone.com/', 'tanggal': '2024-08-02T00:00:00Z', 'url': 'https://nasional.okezone.com/read/2024/08/02/337/3043114/angela-tanoesoedibjo-gantikan-ht-pimpin-partai-perindo-pkb-banggakan-kaum-muda', 'label_owner': ['instansi B', 'instansi A'], 'label_timestamp': ['2024-08-07T08:46:33.374327', '2024-08-07T08:47:27.737476']}]\n"
     ]
    }
   ],
   "source": [
    "# Load data by label_owner\n",
    "label_owner_to_search = 'instansi B'\n",
    "filtered_data = load_data_by_label_owner(DATABASE_NAME, DATA_COLLECTION_NAME, label_owner_to_search)\n",
    "print(f\"Data for label_owner '{label_owner_to_search}':\")\n",
    "print(filtered_data)"
   ]
  },
  {
   "cell_type": "code",
   "execution_count": 10,
   "metadata": {},
   "outputs": [
    {
     "data": {
      "text/html": [
       "<div>\n",
       "<style scoped>\n",
       "    .dataframe tbody tr th:only-of-type {\n",
       "        vertical-align: middle;\n",
       "    }\n",
       "\n",
       "    .dataframe tbody tr th {\n",
       "        vertical-align: top;\n",
       "    }\n",
       "\n",
       "    .dataframe thead th {\n",
       "        text-align: right;\n",
       "    }\n",
       "</style>\n",
       "<table border=\"1\" class=\"dataframe\">\n",
       "  <thead>\n",
       "    <tr style=\"text-align: right;\">\n",
       "      <th></th>\n",
       "      <th>judul</th>\n",
       "      <th>ringkasan</th>\n",
       "      <th>sumber</th>\n",
       "      <th>tanggal</th>\n",
       "      <th>url</th>\n",
       "      <th>label_owner</th>\n",
       "      <th>label_timestamp</th>\n",
       "    </tr>\n",
       "  </thead>\n",
       "  <tbody>\n",
       "    <tr>\n",
       "      <th>0</th>\n",
       "      <td>Profil Hetifah Sjaifudian, Anggota DPR RI Dapi...</td>\n",
       "      <td>Sebanyak 580 caleg berhasil memastikan diri lo...</td>\n",
       "      <td>Tribun Kaltim</td>\n",
       "      <td>2024-08-02T02:53:20Z</td>\n",
       "      <td>https://kaltim.tribunnews.com/2024/08/02/profi...</td>\n",
       "      <td>[instansi A, instansi B]</td>\n",
       "      <td>[2024-08-06T12:00:18.982130, 2024-08-07T08:44:...</td>\n",
       "    </tr>\n",
       "    <tr>\n",
       "      <th>1</th>\n",
       "      <td>Menhub Budi Pede Tol Laut Lanjut di Masa Prabo...</td>\n",
       "      <td>Budi meyakini bahwa program tol laut tidak han...</td>\n",
       "      <td>VIVA.co.id</td>\n",
       "      <td>2024-08-02T02:41:08Z</td>\n",
       "      <td>https://www.viva.co.id/bisnis/1738349-menhub-b...</td>\n",
       "      <td>[instansi A, instansi B]</td>\n",
       "      <td>[2024-08-06T12:00:18.982130, 2024-08-07T08:44:...</td>\n",
       "    </tr>\n",
       "    <tr>\n",
       "      <th>2</th>\n",
       "      <td>Sah! Pasangan Salim Fakhry-Heri Al Hilal Maju ...</td>\n",
       "      <td>KUTACANE, Waspada.co.id - Dewan Pimpinan Pusat...</td>\n",
       "      <td>Waspada Online</td>\n",
       "      <td>2024-08-02T02:40:57Z</td>\n",
       "      <td>https://waspada.co.id/sah-pasangan-salim-fakhr...</td>\n",
       "      <td>[instansi A, instansi B]</td>\n",
       "      <td>[2024-08-06T12:00:18.982130, 2024-08-07T08:44:...</td>\n",
       "    </tr>\n",
       "    <tr>\n",
       "      <th>3</th>\n",
       "      <td>Menhub  optimistis program tol laut berlanjut ...</td>\n",
       "      <td>Jakarta (ANTARA) - Menteri Perhubungan (Menhub...</td>\n",
       "      <td>Antara News</td>\n",
       "      <td>2024-08-02T00:19:01Z</td>\n",
       "      <td>https://ambon.antaranews.com/berita/223035/men...</td>\n",
       "      <td>[instansi B]</td>\n",
       "      <td>[2024-08-07T08:46:33.374327]</td>\n",
       "    </tr>\n",
       "    <tr>\n",
       "      <th>4</th>\n",
       "      <td>HARI INI,  Aliansi Santri Gus Dur Menggugat Ge...</td>\n",
       "      <td>Laporan Wartawan Tribuncirebon.com, Handhika R...</td>\n",
       "      <td>Tribun cirebon</td>\n",
       "      <td>2024-08-02T00:16:22Z</td>\n",
       "      <td>https://cirebon.tribunnews.com/2024/08/02/hari...</td>\n",
       "      <td>[instansi B]</td>\n",
       "      <td>[2024-08-07T08:46:33.374327]</td>\n",
       "    </tr>\n",
       "    <tr>\n",
       "      <th>5</th>\n",
       "      <td>Jumlah Pekerja yang Kena PHK Capai 32 Ribu Ora...</td>\n",
       "      <td>Massa buruh Konfederasi Serikat Pekerja Seluru...</td>\n",
       "      <td>TEMPO.CO</td>\n",
       "      <td>2024-08-02T00:11:27Z</td>\n",
       "      <td>https://bisnis.tempo.co/read/1898757/jumlah-pe...</td>\n",
       "      <td>[instansi B, instansi A]</td>\n",
       "      <td>[2024-08-07T08:46:33.374327, 2024-08-07T08:47:...</td>\n",
       "    </tr>\n",
       "    <tr>\n",
       "      <th>6</th>\n",
       "      <td>Angela Tanoesoedibjo Gantikan HT Pimpin Partai...</td>\n",
       "      <td>JAKARTA - Ketua DPP PKB Daniel Johan turut men...</td>\n",
       "      <td>https://nasional.okezone.com/</td>\n",
       "      <td>2024-08-02T00:00:00Z</td>\n",
       "      <td>https://nasional.okezone.com/read/2024/08/02/3...</td>\n",
       "      <td>[instansi B, instansi A]</td>\n",
       "      <td>[2024-08-07T08:46:33.374327, 2024-08-07T08:47:...</td>\n",
       "    </tr>\n",
       "  </tbody>\n",
       "</table>\n",
       "</div>"
      ],
      "text/plain": [
       "                                               judul  \\\n",
       "0  Profil Hetifah Sjaifudian, Anggota DPR RI Dapi...   \n",
       "1  Menhub Budi Pede Tol Laut Lanjut di Masa Prabo...   \n",
       "2  Sah! Pasangan Salim Fakhry-Heri Al Hilal Maju ...   \n",
       "3  Menhub  optimistis program tol laut berlanjut ...   \n",
       "4  HARI INI,  Aliansi Santri Gus Dur Menggugat Ge...   \n",
       "5  Jumlah Pekerja yang Kena PHK Capai 32 Ribu Ora...   \n",
       "6  Angela Tanoesoedibjo Gantikan HT Pimpin Partai...   \n",
       "\n",
       "                                           ringkasan  \\\n",
       "0  Sebanyak 580 caleg berhasil memastikan diri lo...   \n",
       "1  Budi meyakini bahwa program tol laut tidak han...   \n",
       "2  KUTACANE, Waspada.co.id - Dewan Pimpinan Pusat...   \n",
       "3  Jakarta (ANTARA) - Menteri Perhubungan (Menhub...   \n",
       "4  Laporan Wartawan Tribuncirebon.com, Handhika R...   \n",
       "5  Massa buruh Konfederasi Serikat Pekerja Seluru...   \n",
       "6  JAKARTA - Ketua DPP PKB Daniel Johan turut men...   \n",
       "\n",
       "                          sumber               tanggal  \\\n",
       "0                  Tribun Kaltim  2024-08-02T02:53:20Z   \n",
       "1                     VIVA.co.id  2024-08-02T02:41:08Z   \n",
       "2                 Waspada Online  2024-08-02T02:40:57Z   \n",
       "3                    Antara News  2024-08-02T00:19:01Z   \n",
       "4                 Tribun cirebon  2024-08-02T00:16:22Z   \n",
       "5                       TEMPO.CO  2024-08-02T00:11:27Z   \n",
       "6  https://nasional.okezone.com/  2024-08-02T00:00:00Z   \n",
       "\n",
       "                                                 url  \\\n",
       "0  https://kaltim.tribunnews.com/2024/08/02/profi...   \n",
       "1  https://www.viva.co.id/bisnis/1738349-menhub-b...   \n",
       "2  https://waspada.co.id/sah-pasangan-salim-fakhr...   \n",
       "3  https://ambon.antaranews.com/berita/223035/men...   \n",
       "4  https://cirebon.tribunnews.com/2024/08/02/hari...   \n",
       "5  https://bisnis.tempo.co/read/1898757/jumlah-pe...   \n",
       "6  https://nasional.okezone.com/read/2024/08/02/3...   \n",
       "\n",
       "                label_owner                                    label_timestamp  \n",
       "0  [instansi A, instansi B]  [2024-08-06T12:00:18.982130, 2024-08-07T08:44:...  \n",
       "1  [instansi A, instansi B]  [2024-08-06T12:00:18.982130, 2024-08-07T08:44:...  \n",
       "2  [instansi A, instansi B]  [2024-08-06T12:00:18.982130, 2024-08-07T08:44:...  \n",
       "3              [instansi B]                       [2024-08-07T08:46:33.374327]  \n",
       "4              [instansi B]                       [2024-08-07T08:46:33.374327]  \n",
       "5  [instansi B, instansi A]  [2024-08-07T08:46:33.374327, 2024-08-07T08:47:...  \n",
       "6  [instansi B, instansi A]  [2024-08-07T08:46:33.374327, 2024-08-07T08:47:...  "
      ]
     },
     "execution_count": 10,
     "metadata": {},
     "output_type": "execute_result"
    }
   ],
   "source": [
    "pd.DataFrame(filtered_data)"
   ]
  },
  {
   "cell_type": "code",
   "execution_count": null,
   "metadata": {},
   "outputs": [],
   "source": []
  }
 ],
 "metadata": {
  "kernelspec": {
   "display_name": "sentiment",
   "language": "python",
   "name": "python3"
  },
  "language_info": {
   "codemirror_mode": {
    "name": "ipython",
    "version": 3
   },
   "file_extension": ".py",
   "mimetype": "text/x-python",
   "name": "python",
   "nbconvert_exporter": "python",
   "pygments_lexer": "ipython3",
   "version": "3.10.14"
  }
 },
 "nbformat": 4,
 "nbformat_minor": 2
}
