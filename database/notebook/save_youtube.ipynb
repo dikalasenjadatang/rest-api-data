{
 "cells": [
  {
   "cell_type": "code",
   "execution_count": 1,
   "metadata": {},
   "outputs": [],
   "source": [
    "import pandas as pd\n",
    "from datetime import datetime\n",
    "from pymongo import MongoClient"
   ]
  },
  {
   "cell_type": "code",
   "execution_count": 2,
   "metadata": {},
   "outputs": [
    {
     "name": "stdout",
     "output_type": "stream",
     "text": [
      "New data inserted successfully.\n"
     ]
    }
   ],
   "source": [
    "# Sample new data\n",
    "new_data = [\n",
    "    {\n",
    "        'judul': 'New YouTube Video 1',\n",
    "        'ringkasan': 'Summary of new YouTube video 1.',\n",
    "        'sumber': 'YouTube',\n",
    "        'tanggal': '2024-08-02T03:00:00Z',\n",
    "        'url': 'https://www.youtube.com/watch?v=example1'\n",
    "    },\n",
    "    {\n",
    "        'judul': 'New YouTube Video 2',\n",
    "        'ringkasan': 'Summary of new YouTube video 2.',\n",
    "        'sumber': 'YouTube',\n",
    "        'tanggal': '2024-08-02T04:00:00Z',\n",
    "        'url': 'https://www.youtube.com/watch?v=example2'\n",
    "    }\n",
    "]\n",
    "\n",
    "# Create DataFrame\n",
    "new_df = pd.DataFrame(new_data)\n",
    "\n",
    "# Add new columns\n",
    "new_df['label_owner'] = 'Personal'\n",
    "new_df['label_timestamp'] = datetime.now().isoformat()\n",
    "\n",
    "# Convert DataFrame to dictionary\n",
    "new_data_dict = new_df.to_dict(\"records\")\n",
    "\n",
    "# MongoDB connection\n",
    "client = MongoClient('mongodb://localhost:27017/')  # Adjust the connection string as needed\n",
    "db = client['TESTING']  # Replace with your database name\n",
    "collection = db['search_result']  # Replace with your collection name\n",
    "\n",
    "# Insert new data into MongoDB with a document named 'youtube'\n",
    "collection.update_one(\n",
    "    {'_id': 'youtube'},  # Use a specific identifier for the document\n",
    "    {'$set': {'data': new_data_dict}},\n",
    "    upsert=True  # Create the document if it does not exist\n",
    ")\n",
    "\n",
    "print(\"New data inserted successfully.\")\n"
   ]
  },
  {
   "cell_type": "code",
   "execution_count": null,
   "metadata": {},
   "outputs": [],
   "source": []
  }
 ],
 "metadata": {
  "kernelspec": {
   "display_name": "sentiment",
   "language": "python",
   "name": "python3"
  },
  "language_info": {
   "codemirror_mode": {
    "name": "ipython",
    "version": 3
   },
   "file_extension": ".py",
   "mimetype": "text/x-python",
   "name": "python",
   "nbconvert_exporter": "python",
   "pygments_lexer": "ipython3",
   "version": "3.10.14"
  }
 },
 "nbformat": 4,
 "nbformat_minor": 2
}
