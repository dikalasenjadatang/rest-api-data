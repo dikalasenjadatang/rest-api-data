{
 "cells": [
  {
   "cell_type": "code",
   "execution_count": 1,
   "metadata": {},
   "outputs": [],
   "source": [
    "from pymongo import MongoClient\n",
    "import pandas as pd\n",
    "from datetime import datetime"
   ]
  },
  {
   "cell_type": "code",
   "execution_count": 24,
   "metadata": {},
   "outputs": [
    {
     "name": "stdout",
     "output_type": "stream",
     "text": [
      "2024-08-05\n"
     ]
    }
   ],
   "source": [
    "from datetime import datetime\n",
    "\n",
    "# Get today's date\n",
    "today_date = datetime.today().strftime('%Y-%m-%d')\n",
    "\n",
    "print(today_date)\n"
   ]
  },
  {
   "cell_type": "code",
   "execution_count": 6,
   "metadata": {},
   "outputs": [],
   "source": []
  },
  {
   "cell_type": "code",
   "execution_count": 8,
   "metadata": {},
   "outputs": [],
   "source": []
  },
  {
   "cell_type": "code",
   "execution_count": 30,
   "metadata": {},
   "outputs": [],
   "source": [
    "MONGO_URI = 'mongodb://localhost:27017/'  # Update with your MongoDB URI\n",
    "DATABASE_NAME = 'E2E_TESTING'\n",
    "TOPIK = 'INSTANSI'\n",
    "\n",
    "client_db = MongoClient(MONGO_URI)\n",
    "db = client_db[DATABASE_NAME]\n",
    "topik_collection = db[TOPIK]\n",
    "\n",
    "document = topik_collection.find_one({'_id': 'news'})\n",
    "\n",
    "data = document['data'] if document else []\n",
    "# Convert to DataFrame\n",
    "df = pd.DataFrame(data)\n",
    "sentiment_counts = df['sentimen'].value_counts(normalize=True) * 100\n",
    "pie_sentiment = {\n",
    "    \"labels\": sentiment_counts.index.tolist(),\n",
    "    \"values\": sentiment_counts.values.tolist()\n",
    "}\n",
    "\n",
    "df_pie = pd.DataFrame(pie_sentiment)\n",
    "df_pie['keyword'] = TOPIK\n",
    "df_pie['createdAt'] = datetime.today().strftime('%Y-%m-%d')\n",
    "\n",
    "buzzer_counts = df['buzzer'].value_counts(normalize=True) * 100\n",
    "pie_buzz = {\n",
    "    \"labels\": buzzer_counts.index.tolist(),\n",
    "    \"values\": buzzer_counts.values.tolist()\n",
    "}\n",
    "\n",
    "df_piebuz = pd.DataFrame(pie_buzz)\n",
    "df_piebuz['keyword'] = TOPIK\n",
    "df_piebuz['createdAt'] = datetime.today().strftime('%Y-%m-%d')\n",
    "\n",
    "\n",
    "result = {'pie_sentiment' : df_pie.to_dict('records'),\n",
    "          'pie_buzz' : df_piebuz.to_dict('records')}"
   ]
  },
  {
   "cell_type": "code",
   "execution_count": 31,
   "metadata": {},
   "outputs": [
    {
     "data": {
      "text/plain": [
       "{'pie_sentiment': [{'labels': 'negatif',\n",
       "   'values': 66.66666666666666,\n",
       "   'keyword': 'INSTANSI',\n",
       "   'createdAt': '2024-08-05'},\n",
       "  {'labels': 'positif',\n",
       "   'values': 33.33333333333333,\n",
       "   'keyword': 'INSTANSI',\n",
       "   'createdAt': '2024-08-05'}],\n",
       " 'pie_buzz': [{'labels': 'not_buzzer',\n",
       "   'values': 59.25925925925925,\n",
       "   'keyword': 'INSTANSI',\n",
       "   'createdAt': '2024-08-05'},\n",
       "  {'labels': 'buzzer',\n",
       "   'values': 40.74074074074074,\n",
       "   'keyword': 'INSTANSI',\n",
       "   'createdAt': '2024-08-05'}]}"
      ]
     },
     "execution_count": 31,
     "metadata": {},
     "output_type": "execute_result"
    }
   ],
   "source": [
    "result"
   ]
  },
  {
   "cell_type": "markdown",
   "metadata": {},
   "source": [
    "# ==========="
   ]
  },
  {
   "cell_type": "code",
   "execution_count": 35,
   "metadata": {},
   "outputs": [
    {
     "name": "stdout",
     "output_type": "stream",
     "text": [
      "Data checked for duplicates and inserted/updated successfully.\n"
     ]
    }
   ],
   "source": [
    "# Check for existing 'news_ep' document\n",
    "news_ep_document = topik_collection.find_one({'_id': 'news_ep'})\n",
    "\n",
    "# Function to check for duplicate entries\n",
    "def is_duplicate(record, existing_data):\n",
    "    for entry in existing_data:\n",
    "        if 'keyword' in entry and 'createdAt' in entry:\n",
    "            if entry['keyword'] == record['keyword'] and entry['createdAt'] == record['createdAt']:\n",
    "                return True\n",
    "    return False\n",
    "\n",
    "# Update or insert new data\n",
    "if news_ep_document:\n",
    "    # Check for duplicates in 'pie_sentiment'\n",
    "    new_pie_sentiment = [\n",
    "        item for item in result['pie_sentiment']\n",
    "        if not is_duplicate(item, news_ep_document.get('pie_sentiment', []))\n",
    "    ]\n",
    "    \n",
    "    # Check for duplicates in 'pie_buzz'\n",
    "    new_pie_buzz = [\n",
    "        item for item in result['pie_buzz']\n",
    "        if not is_duplicate(item, news_ep_document.get('pie_buzz', []))\n",
    "    ]\n",
    "    \n",
    "    # Update the document if there are new items\n",
    "    if new_pie_sentiment or new_pie_buzz:\n",
    "        update_fields = {}\n",
    "        if new_pie_sentiment:\n",
    "            update_fields['pie_sentiment'] = news_ep_document.get('pie_sentiment', []) + new_pie_sentiment\n",
    "        if new_pie_buzz:\n",
    "            update_fields['pie_buzz'] = news_ep_document.get('pie_buzz', []) + new_pie_buzz\n",
    "        \n",
    "        topik_collection.update_one(\n",
    "            {'_id': 'news_ep'},\n",
    "            {'$set': update_fields}\n",
    "        )\n",
    "else:\n",
    "    # Insert new 'news_ep' document\n",
    "    topik_collection.insert_one({'_id': 'news_ep', **result})\n",
    "\n",
    "print(\"Data checked for duplicates and inserted/updated successfully.\")"
   ]
  },
  {
   "cell_type": "code",
   "execution_count": null,
   "metadata": {},
   "outputs": [],
   "source": [
    "existing_document = data_collection.find_one({'_id': 'news'})\n",
    "\n",
    "# Check for duplicates based on 'url' and append new data\n",
    "if existing_document and 'data' in existing_document:\n",
    "    existing_data = existing_document['data']\n",
    "    existing_urls = {item['url'] for item in existing_data}\n",
    "    \n",
    "    # Filter out new items that already exist based on the 'url' field\n",
    "    new_data = [item for item in data_json if item['url'] not in existing_urls]\n",
    "    \n",
    "    if new_data:\n",
    "        existing_data.extend(new_data)\n",
    "        data_collection.update_one(\n",
    "            {'_id': 'news'},\n",
    "            {'$set': {'data': existing_data}}\n",
    "        )\n",
    "else:\n",
    "    data_collection.update_one(\n",
    "        {'_id': 'news'},\n",
    "        {'$set': {'data': data_json}},\n",
    "        upsert=True\n",
    "    )\n",
    "print(\"data News Saved!\")"
   ]
  },
  {
   "cell_type": "markdown",
   "metadata": {},
   "source": [
    "# ================="
   ]
  },
  {
   "cell_type": "code",
   "execution_count": 37,
   "metadata": {},
   "outputs": [],
   "source": [
    "document = topik_collection.find_one({'_id': 'news_ep'})\n"
   ]
  },
  {
   "cell_type": "code",
   "execution_count": 45,
   "metadata": {},
   "outputs": [
    {
     "data": {
      "text/plain": [
       "[{'labels': 'negatif',\n",
       "  'values': 55.55555555555556,\n",
       "  'keyword': 'INSTANSI',\n",
       "  'createdAt': '2024-08-05'},\n",
       " {'labels': 'positif',\n",
       "  'values': 44.44444444444444,\n",
       "  'keyword': 'INSTANSI',\n",
       "  'createdAt': '2024-08-05'}]"
      ]
     },
     "execution_count": 45,
     "metadata": {},
     "output_type": "execute_result"
    }
   ],
   "source": [
    "document['pie_sentiment']"
   ]
  },
  {
   "cell_type": "code",
   "execution_count": 40,
   "metadata": {},
   "outputs": [
    {
     "data": {
      "text/plain": [
       "list"
      ]
     },
     "execution_count": 40,
     "metadata": {},
     "output_type": "execute_result"
    }
   ],
   "source": [
    "type(document['pie_sentiment'])"
   ]
  },
  {
   "cell_type": "code",
   "execution_count": null,
   "metadata": {},
   "outputs": [],
   "source": []
  }
 ],
 "metadata": {
  "kernelspec": {
   "display_name": "sentiment",
   "language": "python",
   "name": "python3"
  },
  "language_info": {
   "codemirror_mode": {
    "name": "ipython",
    "version": 3
   },
   "file_extension": ".py",
   "mimetype": "text/x-python",
   "name": "python",
   "nbconvert_exporter": "python",
   "pygments_lexer": "ipython3",
   "version": "3.10.14"
  }
 },
 "nbformat": 4,
 "nbformat_minor": 2
}
